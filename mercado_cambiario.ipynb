{
 "cells": [
  {
   "cell_type": "markdown",
   "metadata": {},
   "source": [
    "## Note about this code\n",
    "num_ven = numero de vendedores \n",
    "\n",
    "num_com = numero de compradores "
   ]
  },
  {
   "cell_type": "code",
   "execution_count": 8,
   "metadata": {},
   "outputs": [
    {
     "name": "stdout",
     "output_type": "stream",
     "text": [
      "350.0\n"
     ]
    }
   ],
   "source": [
    "\n",
    "import queue\n",
    "import simpy\n",
    "import random\n",
    "import statistics\n",
    "import itertools\n",
    "\n",
    "class Marketplace(object) :\n",
    "    def __init__(self , valueinit,num_ven , normal_people , especulator_people,deseperate_people):\n",
    "        self.valueinit = valueinit\n",
    "        self.currentprice = valueinit\n",
    "        self.num_ven = num_ven\n",
    "        self.normal_people = normal_people\n",
    "        self.especulator_people = especulator_people\n",
    "        self.deseperate_people = deseperate_people\n",
    "        self.price_list_sell = []\n",
    "\n",
    "    def take_toque_sell(self):\n",
    "        return statistics.median(self.price_list_sell) #, statistics.median(self.price_list_sell)]\n",
    "\n",
    "    def queue_offer_sell(self):\n",
    "      normal_list = [0 for i in range(self.normal_people)]\n",
    "      especulator_list = [1 for i in range(self.especulator_people)]\n",
    "      deseperate_list = [2 for i in range(self.deseperate_people)]\n",
    "\n",
    "      result = normal_list + especulator_list + deseperate_list\n",
    "      random.shuffle(result)\n",
    "      return result\n",
    "\n",
    "    def obtain_offer_sell(self,index): \n",
    "        if(index == 0):\n",
    "            return self.currentprice\n",
    "        elif(index ==1):\n",
    "            return random.randint(1,int(0.05 *self.currentprice))+ self.currentprice\n",
    "        else:\n",
    "            return self.currentprice - random.randint(1,int(0.05 *self.currentprice))\n",
    "\n",
    "    def push_offer_sell(self):\n",
    "        queue = self.queue_offer_sell()\n",
    "        self.price_list_sell = []\n",
    "        for i in queue:\n",
    "            offer = self.obtain_offer_sell(i)\n",
    "            self.price_list_sell.append((offer))\n",
    "    \n",
    "    def update_toque_per_day(self):\n",
    "        self.push_offer_sell()\n",
    "        self.currentprice = self.take_toque_sell()\n",
    "    \n",
    "        \n",
    "        \n",
    "market = Marketplace(100,100,250,500,250)\n",
    "n = 0\n",
    "median = 0\n",
    "lista = []\n",
    "while(n < 500):\n",
    "    x = 0\n",
    "    while(x < 2):\n",
    "        market.update_toque_per_day()\n",
    "        median = market.currentprice\n",
    "        lista.append(median)\n",
    "        x+=1\n",
    "    n+=1\n",
    "print(median)\n",
    "\n"
   ]
  }
 ],
 "metadata": {
  "kernelspec": {
   "display_name": "Python 3.10.7 64-bit",
   "language": "python",
   "name": "python3"
  },
  "language_info": {
   "codemirror_mode": {
    "name": "ipython",
    "version": 3
   },
   "file_extension": ".py",
   "mimetype": "text/x-python",
   "name": "python",
   "nbconvert_exporter": "python",
   "pygments_lexer": "ipython3",
   "version": "3.10.7"
  },
  "orig_nbformat": 4,
  "vscode": {
   "interpreter": {
    "hash": "aee8b7b246df8f9039afb4144a1f6fd8d2ca17a180786b69acc140d282b71a49"
   }
  }
 },
 "nbformat": 4,
 "nbformat_minor": 2
}
